{
 "cells": [
  {
   "cell_type": "code",
   "execution_count": null,
   "metadata": {},
   "outputs": [],
   "source": [
    "import numpy as np\n",
    "import matplotlib.pyplot as plt\n",
    "import sklearn\n",
    "import os\n",
    "cwd = os.getcwd()\n",
    "\n",
    "XP_train=[]\n",
    "file=open(\"./tweets/tweets-train-data.csv\", 'r')\n",
    "for l in file:\n",
    "    app=[]\n",
    "    for d in l.split(','):\n",
    "        app.append(int(d))\n",
    "    XP_train.append(app)\n",
    "X_train=np.array(XP_train)\n",
    "\n",
    "XP_test=[]\n",
    "file=open(\"./tweets/tweets-test-data.csv\", 'r')\n",
    "for l in file:\n",
    "    app=[]\n",
    "    for d in l.split(','):\n",
    "        app.append(int(d))\n",
    "    XP_test.append(app)\n",
    "X_test=np.array(XP_test)\n",
    "\n",
    "YP_train=[]\n",
    "file=open(\"./ tweets/tweets-train-targets.csv\", 'r')\n",
    "for l in file:\n",
    "    YP_train.append(l)\n",
    "Y_train=np.array(YP_train)\n",
    "\n",
    "YP_test=[]\n",
    "file=open(\"./tweets/tweets-test-targets.csv\", 'r')\n",
    "for l in file:\n",
    "    YP_test.append(l)\n",
    "Y_test=np.array(YP_test)"
   ]
  }
 ],
 "metadata": {
  "kernelspec": {
   "display_name": "Python 3",
   "language": "python",
   "name": "python3"
  },
  "language_info": {
   "codemirror_mode": {
    "name": "ipython",
    "version": 3
   },
   "file_extension": ".py",
   "mimetype": "text/x-python",
   "name": "python",
   "nbconvert_exporter": "python",
   "pygments_lexer": "ipython3",
   "version": "3.6.4"
  }
 },
 "nbformat": 4,
 "nbformat_minor": 2
}
